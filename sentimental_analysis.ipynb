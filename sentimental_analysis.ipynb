{
  "nbformat": 4,
  "nbformat_minor": 0,
  "metadata": {
    "colab": {
      "provenance": [],
      "authorship_tag": "ABX9TyNTHXtyO23nXNE5PCFheWcV",
      "include_colab_link": true
    },
    "kernelspec": {
      "name": "python3",
      "display_name": "Python 3"
    },
    "language_info": {
      "name": "python"
    }
  },
  "cells": [
    {
      "cell_type": "markdown",
      "metadata": {
        "id": "view-in-github",
        "colab_type": "text"
      },
      "source": [
        "<a href=\"https://colab.research.google.com/github/Jess-12/sentiment_analysis-of-web-scrapped-data/blob/main/sentimental_analysis.ipynb\" target=\"_parent\"><img src=\"https://colab.research.google.com/assets/colab-badge.svg\" alt=\"Open In Colab\"/></a>"
      ]
    },
    {
      "cell_type": "code",
      "source": [
        "!pip install selenium\n",
        "!pip install webdriver-manager"
      ],
      "metadata": {
        "colab": {
          "base_uri": "https://localhost:8080/"
        },
        "id": "tpbjNBXOUSmA",
        "outputId": "dddf1912-8c7d-48bc-b350-33c0c3fc159a"
      },
      "execution_count": null,
      "outputs": [
        {
          "output_type": "stream",
          "name": "stdout",
          "text": [
            "Looking in indexes: https://pypi.org/simple, https://us-python.pkg.dev/colab-wheels/public/simple/\n",
            "Requirement already satisfied: selenium in /usr/local/lib/python3.10/dist-packages (4.10.0)\n",
            "Requirement already satisfied: urllib3[socks]<3,>=1.26 in /usr/local/lib/python3.10/dist-packages (from selenium) (1.26.15)\n",
            "Requirement already satisfied: trio~=0.17 in /usr/local/lib/python3.10/dist-packages (from selenium) (0.22.0)\n",
            "Requirement already satisfied: trio-websocket~=0.9 in /usr/local/lib/python3.10/dist-packages (from selenium) (0.10.3)\n",
            "Requirement already satisfied: certifi>=2021.10.8 in /usr/local/lib/python3.10/dist-packages (from selenium) (2022.12.7)\n",
            "Requirement already satisfied: attrs>=19.2.0 in /usr/local/lib/python3.10/dist-packages (from trio~=0.17->selenium) (23.1.0)\n",
            "Requirement already satisfied: sortedcontainers in /usr/local/lib/python3.10/dist-packages (from trio~=0.17->selenium) (2.4.0)\n",
            "Requirement already satisfied: async-generator>=1.9 in /usr/local/lib/python3.10/dist-packages (from trio~=0.17->selenium) (1.10)\n",
            "Requirement already satisfied: idna in /usr/local/lib/python3.10/dist-packages (from trio~=0.17->selenium) (3.4)\n",
            "Requirement already satisfied: outcome in /usr/local/lib/python3.10/dist-packages (from trio~=0.17->selenium) (1.2.0)\n",
            "Requirement already satisfied: sniffio in /usr/local/lib/python3.10/dist-packages (from trio~=0.17->selenium) (1.3.0)\n",
            "Requirement already satisfied: exceptiongroup>=1.0.0rc9 in /usr/local/lib/python3.10/dist-packages (from trio~=0.17->selenium) (1.1.1)\n",
            "Requirement already satisfied: wsproto>=0.14 in /usr/local/lib/python3.10/dist-packages (from trio-websocket~=0.9->selenium) (1.2.0)\n",
            "Requirement already satisfied: PySocks!=1.5.7,<2.0,>=1.5.6 in /usr/local/lib/python3.10/dist-packages (from urllib3[socks]<3,>=1.26->selenium) (1.7.1)\n",
            "Requirement already satisfied: h11<1,>=0.9.0 in /usr/local/lib/python3.10/dist-packages (from wsproto>=0.14->trio-websocket~=0.9->selenium) (0.14.0)\n",
            "Looking in indexes: https://pypi.org/simple, https://us-python.pkg.dev/colab-wheels/public/simple/\n",
            "Requirement already satisfied: webdriver-manager in /usr/local/lib/python3.10/dist-packages (3.8.6)\n",
            "Requirement already satisfied: requests in /usr/local/lib/python3.10/dist-packages (from webdriver-manager) (2.27.1)\n",
            "Requirement already satisfied: python-dotenv in /usr/local/lib/python3.10/dist-packages (from webdriver-manager) (1.0.0)\n",
            "Requirement already satisfied: tqdm in /usr/local/lib/python3.10/dist-packages (from webdriver-manager) (4.65.0)\n",
            "Requirement already satisfied: packaging in /usr/local/lib/python3.10/dist-packages (from webdriver-manager) (23.1)\n",
            "Requirement already satisfied: urllib3<1.27,>=1.21.1 in /usr/local/lib/python3.10/dist-packages (from requests->webdriver-manager) (1.26.15)\n",
            "Requirement already satisfied: certifi>=2017.4.17 in /usr/local/lib/python3.10/dist-packages (from requests->webdriver-manager) (2022.12.7)\n",
            "Requirement already satisfied: charset-normalizer~=2.0.0 in /usr/local/lib/python3.10/dist-packages (from requests->webdriver-manager) (2.0.12)\n",
            "Requirement already satisfied: idna<4,>=2.5 in /usr/local/lib/python3.10/dist-packages (from requests->webdriver-manager) (3.4)\n"
          ]
        }
      ]
    },
    {
      "cell_type": "code",
      "execution_count": null,
      "metadata": {
        "id": "jBnuy-C3_0Uh"
      },
      "outputs": [],
      "source": [
        "import pandas as pd\n",
        "import numpy as np\n",
        "from selenium import webdriver\n",
        "from selenium.webdriver.common.by import By\n",
        "from webdriver_manager.chrome import ChromeDriverManager"
      ]
    },
    {
      "cell_type": "code",
      "source": [
        "links=pd.read_excel('Input.xlsx')\n",
        "links.head()"
      ],
      "metadata": {
        "colab": {
          "base_uri": "https://localhost:8080/",
          "height": 206
        },
        "id": "ZKLN6lDzFsMZ",
        "outputId": "5d5c38f8-3791-4442-e7bb-467c5cfce483"
      },
      "execution_count": null,
      "outputs": [
        {
          "output_type": "execute_result",
          "data": {
            "text/plain": [
              "   URL_ID                                                URL\n",
              "0       1  https://insights.blackcoffer.com/how-is-login-...\n",
              "1       2  https://insights.blackcoffer.com/how-does-ai-h...\n",
              "2       3  https://insights.blackcoffer.com/ai-and-its-im...\n",
              "3       4  https://insights.blackcoffer.com/how-do-deep-l...\n",
              "4       5  https://insights.blackcoffer.com/how-artificia..."
            ],
            "text/html": [
              "\n",
              "  <div id=\"df-93b21977-488f-46aa-9998-be945e49e643\">\n",
              "    <div class=\"colab-df-container\">\n",
              "      <div>\n",
              "<style scoped>\n",
              "    .dataframe tbody tr th:only-of-type {\n",
              "        vertical-align: middle;\n",
              "    }\n",
              "\n",
              "    .dataframe tbody tr th {\n",
              "        vertical-align: top;\n",
              "    }\n",
              "\n",
              "    .dataframe thead th {\n",
              "        text-align: right;\n",
              "    }\n",
              "</style>\n",
              "<table border=\"1\" class=\"dataframe\">\n",
              "  <thead>\n",
              "    <tr style=\"text-align: right;\">\n",
              "      <th></th>\n",
              "      <th>URL_ID</th>\n",
              "      <th>URL</th>\n",
              "    </tr>\n",
              "  </thead>\n",
              "  <tbody>\n",
              "    <tr>\n",
              "      <th>0</th>\n",
              "      <td>1</td>\n",
              "      <td>https://insights.blackcoffer.com/how-is-login-...</td>\n",
              "    </tr>\n",
              "    <tr>\n",
              "      <th>1</th>\n",
              "      <td>2</td>\n",
              "      <td>https://insights.blackcoffer.com/how-does-ai-h...</td>\n",
              "    </tr>\n",
              "    <tr>\n",
              "      <th>2</th>\n",
              "      <td>3</td>\n",
              "      <td>https://insights.blackcoffer.com/ai-and-its-im...</td>\n",
              "    </tr>\n",
              "    <tr>\n",
              "      <th>3</th>\n",
              "      <td>4</td>\n",
              "      <td>https://insights.blackcoffer.com/how-do-deep-l...</td>\n",
              "    </tr>\n",
              "    <tr>\n",
              "      <th>4</th>\n",
              "      <td>5</td>\n",
              "      <td>https://insights.blackcoffer.com/how-artificia...</td>\n",
              "    </tr>\n",
              "  </tbody>\n",
              "</table>\n",
              "</div>\n",
              "      <button class=\"colab-df-convert\" onclick=\"convertToInteractive('df-93b21977-488f-46aa-9998-be945e49e643')\"\n",
              "              title=\"Convert this dataframe to an interactive table.\"\n",
              "              style=\"display:none;\">\n",
              "        \n",
              "  <svg xmlns=\"http://www.w3.org/2000/svg\" height=\"24px\"viewBox=\"0 0 24 24\"\n",
              "       width=\"24px\">\n",
              "    <path d=\"M0 0h24v24H0V0z\" fill=\"none\"/>\n",
              "    <path d=\"M18.56 5.44l.94 2.06.94-2.06 2.06-.94-2.06-.94-.94-2.06-.94 2.06-2.06.94zm-11 1L8.5 8.5l.94-2.06 2.06-.94-2.06-.94L8.5 2.5l-.94 2.06-2.06.94zm10 10l.94 2.06.94-2.06 2.06-.94-2.06-.94-.94-2.06-.94 2.06-2.06.94z\"/><path d=\"M17.41 7.96l-1.37-1.37c-.4-.4-.92-.59-1.43-.59-.52 0-1.04.2-1.43.59L10.3 9.45l-7.72 7.72c-.78.78-.78 2.05 0 2.83L4 21.41c.39.39.9.59 1.41.59.51 0 1.02-.2 1.41-.59l7.78-7.78 2.81-2.81c.8-.78.8-2.07 0-2.86zM5.41 20L4 18.59l7.72-7.72 1.47 1.35L5.41 20z\"/>\n",
              "  </svg>\n",
              "      </button>\n",
              "      \n",
              "  <style>\n",
              "    .colab-df-container {\n",
              "      display:flex;\n",
              "      flex-wrap:wrap;\n",
              "      gap: 12px;\n",
              "    }\n",
              "\n",
              "    .colab-df-convert {\n",
              "      background-color: #E8F0FE;\n",
              "      border: none;\n",
              "      border-radius: 50%;\n",
              "      cursor: pointer;\n",
              "      display: none;\n",
              "      fill: #1967D2;\n",
              "      height: 32px;\n",
              "      padding: 0 0 0 0;\n",
              "      width: 32px;\n",
              "    }\n",
              "\n",
              "    .colab-df-convert:hover {\n",
              "      background-color: #E2EBFA;\n",
              "      box-shadow: 0px 1px 2px rgba(60, 64, 67, 0.3), 0px 1px 3px 1px rgba(60, 64, 67, 0.15);\n",
              "      fill: #174EA6;\n",
              "    }\n",
              "\n",
              "    [theme=dark] .colab-df-convert {\n",
              "      background-color: #3B4455;\n",
              "      fill: #D2E3FC;\n",
              "    }\n",
              "\n",
              "    [theme=dark] .colab-df-convert:hover {\n",
              "      background-color: #434B5C;\n",
              "      box-shadow: 0px 1px 3px 1px rgba(0, 0, 0, 0.15);\n",
              "      filter: drop-shadow(0px 1px 2px rgba(0, 0, 0, 0.3));\n",
              "      fill: #FFFFFF;\n",
              "    }\n",
              "  </style>\n",
              "\n",
              "      <script>\n",
              "        const buttonEl =\n",
              "          document.querySelector('#df-93b21977-488f-46aa-9998-be945e49e643 button.colab-df-convert');\n",
              "        buttonEl.style.display =\n",
              "          google.colab.kernel.accessAllowed ? 'block' : 'none';\n",
              "\n",
              "        async function convertToInteractive(key) {\n",
              "          const element = document.querySelector('#df-93b21977-488f-46aa-9998-be945e49e643');\n",
              "          const dataTable =\n",
              "            await google.colab.kernel.invokeFunction('convertToInteractive',\n",
              "                                                     [key], {});\n",
              "          if (!dataTable) return;\n",
              "\n",
              "          const docLinkHtml = 'Like what you see? Visit the ' +\n",
              "            '<a target=\"_blank\" href=https://colab.research.google.com/notebooks/data_table.ipynb>data table notebook</a>'\n",
              "            + ' to learn more about interactive tables.';\n",
              "          element.innerHTML = '';\n",
              "          dataTable['output_type'] = 'display_data';\n",
              "          await google.colab.output.renderOutput(dataTable, element);\n",
              "          const docLink = document.createElement('div');\n",
              "          docLink.innerHTML = docLinkHtml;\n",
              "          element.appendChild(docLink);\n",
              "        }\n",
              "      </script>\n",
              "    </div>\n",
              "  </div>\n",
              "  "
            ]
          },
          "metadata": {},
          "execution_count": 7
        }
      ]
    },
    {
      "cell_type": "code",
      "source": [
        "\n",
        "driver =ChromeDriverManager().install()\n",
        "\n"
      ],
      "metadata": {
        "id": "5-QyUX_GGBsT",
        "colab": {
          "base_uri": "https://localhost:8080/"
        },
        "outputId": "763f057c-80b1-4ff7-b699-92c0e6484585"
      },
      "execution_count": null,
      "outputs": [
        {
          "output_type": "stream",
          "name": "stderr",
          "text": [
            "[WDM] - Downloading: 100%|██████████| 7.06M/7.06M [00:00<00:00, 165MB/s]\n"
          ]
        }
      ]
    },
    {
      "cell_type": "code",
      "source": [
        "def scrape_data(link):\n",
        "  global driver\n",
        "  driver.get(link)\n",
        "  title= driver.find_element(By.XPATH,\"//div[contains(@class,'td-post-content')]\")\n",
        "  driver.implicity_wait(10)\n",
        "  return title.text"
      ],
      "metadata": {
        "id": "bxRHHptPTmvo"
      },
      "execution_count": null,
      "outputs": []
    },
    {
      "cell_type": "code",
      "source": [
        "def save_file(scrapdata):\n",
        "  for data in scrapdata:\n",
        "    name=str(data['URL_ID'])+\".txt\"\n",
        "    f=open(\"./Articles/\"+name,'w+',encoding='utf-8')\n",
        "    f.write(data['TEXT'])\n",
        "    f.close()"
      ],
      "metadata": {
        "id": "wPtkWGSbW26-"
      },
      "execution_count": null,
      "outputs": []
    },
    {
      "cell_type": "markdown",
      "source": [
        "performing Scraping "
      ],
      "metadata": {
        "id": "xxxWg78-aYRD"
      }
    },
    {
      "cell_type": "code",
      "source": [
        "data=[]\n",
        "\n",
        "for index, row in links.iterrows():\n",
        "  item={}\n",
        "  item['URL_ID']=row['URL_ID']\n",
        "  item['TEXT']=scrape_data(row['URL'])\n",
        "  scrapdata.append(element)\n",
        "save_file(data)\n"
      ],
      "metadata": {
        "colab": {
          "base_uri": "https://localhost:8080/",
          "height": 356
        },
        "id": "A59kSlrUaGLY",
        "outputId": "ce549300-90e9-42fa-af20-cd929a3eb4f9"
      },
      "execution_count": null,
      "outputs": [
        {
          "output_type": "error",
          "ename": "AttributeError",
          "evalue": "ignored",
          "traceback": [
            "\u001b[0;31m---------------------------------------------------------------------------\u001b[0m",
            "\u001b[0;31mAttributeError\u001b[0m                            Traceback (most recent call last)",
            "\u001b[0;32m<ipython-input-13-43a5add2c100>\u001b[0m in \u001b[0;36m<cell line: 2>\u001b[0;34m()\u001b[0m\n\u001b[1;32m      3\u001b[0m   \u001b[0mitem\u001b[0m\u001b[0;34m=\u001b[0m\u001b[0;34m{\u001b[0m\u001b[0;34m}\u001b[0m\u001b[0;34m\u001b[0m\u001b[0;34m\u001b[0m\u001b[0m\n\u001b[1;32m      4\u001b[0m   \u001b[0mitem\u001b[0m\u001b[0;34m[\u001b[0m\u001b[0;34m'URL_ID'\u001b[0m\u001b[0;34m]\u001b[0m\u001b[0;34m=\u001b[0m\u001b[0mrow\u001b[0m\u001b[0;34m[\u001b[0m\u001b[0;34m'URL_ID'\u001b[0m\u001b[0;34m]\u001b[0m\u001b[0;34m\u001b[0m\u001b[0;34m\u001b[0m\u001b[0m\n\u001b[0;32m----> 5\u001b[0;31m   \u001b[0mitem\u001b[0m\u001b[0;34m[\u001b[0m\u001b[0;34m'TEXT'\u001b[0m\u001b[0;34m]\u001b[0m\u001b[0;34m=\u001b[0m\u001b[0mscrape_data\u001b[0m\u001b[0;34m(\u001b[0m\u001b[0mrow\u001b[0m\u001b[0;34m[\u001b[0m\u001b[0;34m'URL'\u001b[0m\u001b[0;34m]\u001b[0m\u001b[0;34m)\u001b[0m\u001b[0;34m\u001b[0m\u001b[0;34m\u001b[0m\u001b[0m\n\u001b[0m\u001b[1;32m      6\u001b[0m   \u001b[0mscrapdata\u001b[0m\u001b[0;34m.\u001b[0m\u001b[0mappend\u001b[0m\u001b[0;34m(\u001b[0m\u001b[0melement\u001b[0m\u001b[0;34m)\u001b[0m\u001b[0;34m\u001b[0m\u001b[0;34m\u001b[0m\u001b[0m\n\u001b[1;32m      7\u001b[0m \u001b[0msave_file\u001b[0m\u001b[0;34m(\u001b[0m\u001b[0mdata\u001b[0m\u001b[0;34m)\u001b[0m\u001b[0;34m\u001b[0m\u001b[0;34m\u001b[0m\u001b[0m\n",
            "\u001b[0;32m<ipython-input-9-0eec707802fc>\u001b[0m in \u001b[0;36mscrape_data\u001b[0;34m(link)\u001b[0m\n\u001b[1;32m      1\u001b[0m \u001b[0;32mdef\u001b[0m \u001b[0mscrape_data\u001b[0m\u001b[0;34m(\u001b[0m\u001b[0mlink\u001b[0m\u001b[0;34m)\u001b[0m\u001b[0;34m:\u001b[0m\u001b[0;34m\u001b[0m\u001b[0;34m\u001b[0m\u001b[0m\n\u001b[1;32m      2\u001b[0m   \u001b[0;32mglobal\u001b[0m \u001b[0mdriver\u001b[0m\u001b[0;34m\u001b[0m\u001b[0;34m\u001b[0m\u001b[0m\n\u001b[0;32m----> 3\u001b[0;31m   \u001b[0mdriver\u001b[0m\u001b[0;34m.\u001b[0m\u001b[0mget\u001b[0m\u001b[0;34m(\u001b[0m\u001b[0mlink\u001b[0m\u001b[0;34m)\u001b[0m\u001b[0;34m\u001b[0m\u001b[0;34m\u001b[0m\u001b[0m\n\u001b[0m\u001b[1;32m      4\u001b[0m   \u001b[0mtitle\u001b[0m\u001b[0;34m=\u001b[0m \u001b[0mdriver\u001b[0m\u001b[0;34m.\u001b[0m\u001b[0mfind_element\u001b[0m\u001b[0;34m(\u001b[0m\u001b[0mBy\u001b[0m\u001b[0;34m.\u001b[0m\u001b[0mXPATH\u001b[0m\u001b[0;34m,\u001b[0m\u001b[0;34m\"//div[contains(@class,'td-post-content')]\"\u001b[0m\u001b[0;34m)\u001b[0m\u001b[0;34m\u001b[0m\u001b[0;34m\u001b[0m\u001b[0m\n\u001b[1;32m      5\u001b[0m   \u001b[0mdriver\u001b[0m\u001b[0;34m.\u001b[0m\u001b[0mimplicity_wait\u001b[0m\u001b[0;34m(\u001b[0m\u001b[0;36m10\u001b[0m\u001b[0;34m)\u001b[0m\u001b[0;34m\u001b[0m\u001b[0;34m\u001b[0m\u001b[0m\n",
            "\u001b[0;31mAttributeError\u001b[0m: 'str' object has no attribute 'get'"
          ]
        }
      ]
    },
    {
      "cell_type": "markdown",
      "source": [
        "making a dataframe of scraped data"
      ],
      "metadata": {
        "id": "WYFkr8AaGBgk"
      }
    },
    {
      "cell_type": "code",
      "source": [
        "from os import listdir\n",
        "path='files'\n",
        "files= listdir(path)\n"
      ],
      "metadata": {
        "id": "0-FPsH54D6pd"
      },
      "execution_count": null,
      "outputs": []
    },
    {
      "cell_type": "code",
      "source": [
        "d=pd.DataFrame(columns=[\"filename\",\"text\"])\n",
        "\n",
        "for file in files:\n",
        "  f= open(\"./files/\"+file,\"r\")\n",
        "  text= f.read()\n",
        "  sr= int(file.replace(\".0.txt\",\"\"))\n",
        "\n",
        "  df=df.append({\"File\":sr,\"Content\":text},ignore_index=True)"
      ],
      "metadata": {
        "colab": {
          "base_uri": "https://localhost:8080/",
          "height": 356
        },
        "id": "a77WEuBwE7pu",
        "outputId": "3d410688-7fd0-4122-b573-45c2fda8e8fc"
      },
      "execution_count": null,
      "outputs": [
        {
          "output_type": "error",
          "ename": "UnicodeDecodeError",
          "evalue": "ignored",
          "traceback": [
            "\u001b[0;31m---------------------------------------------------------------------------\u001b[0m",
            "\u001b[0;31mUnicodeDecodeError\u001b[0m                        Traceback (most recent call last)",
            "\u001b[0;32m<ipython-input-20-ec66fb35471f>\u001b[0m in \u001b[0;36m<cell line: 3>\u001b[0;34m()\u001b[0m\n\u001b[1;32m      3\u001b[0m \u001b[0;32mfor\u001b[0m \u001b[0mfile\u001b[0m \u001b[0;32min\u001b[0m \u001b[0mfiles\u001b[0m\u001b[0;34m:\u001b[0m\u001b[0;34m\u001b[0m\u001b[0;34m\u001b[0m\u001b[0m\n\u001b[1;32m      4\u001b[0m   \u001b[0mf\u001b[0m\u001b[0;34m=\u001b[0m \u001b[0mopen\u001b[0m\u001b[0;34m(\u001b[0m\u001b[0;34m\"./files/\"\u001b[0m\u001b[0;34m+\u001b[0m\u001b[0mfile\u001b[0m\u001b[0;34m,\u001b[0m\u001b[0;34m\"r\"\u001b[0m\u001b[0;34m)\u001b[0m\u001b[0;34m\u001b[0m\u001b[0;34m\u001b[0m\u001b[0m\n\u001b[0;32m----> 5\u001b[0;31m   \u001b[0mtext\u001b[0m\u001b[0;34m=\u001b[0m \u001b[0mf\u001b[0m\u001b[0;34m.\u001b[0m\u001b[0mread\u001b[0m\u001b[0;34m(\u001b[0m\u001b[0;34m)\u001b[0m\u001b[0;34m\u001b[0m\u001b[0;34m\u001b[0m\u001b[0m\n\u001b[0m\u001b[1;32m      6\u001b[0m   \u001b[0msr\u001b[0m\u001b[0;34m=\u001b[0m \u001b[0mint\u001b[0m\u001b[0;34m(\u001b[0m\u001b[0mfile\u001b[0m\u001b[0;34m.\u001b[0m\u001b[0mreplace\u001b[0m\u001b[0;34m(\u001b[0m\u001b[0;34m\".0.txt\"\u001b[0m\u001b[0;34m,\u001b[0m\u001b[0;34m\"\"\u001b[0m\u001b[0;34m)\u001b[0m\u001b[0;34m)\u001b[0m\u001b[0;34m\u001b[0m\u001b[0;34m\u001b[0m\u001b[0m\n\u001b[1;32m      7\u001b[0m \u001b[0;34m\u001b[0m\u001b[0m\n",
            "\u001b[0;32m/usr/lib/python3.10/codecs.py\u001b[0m in \u001b[0;36mdecode\u001b[0;34m(self, input, final)\u001b[0m\n\u001b[1;32m    320\u001b[0m         \u001b[0;31m# decode input (taking the buffer into account)\u001b[0m\u001b[0;34m\u001b[0m\u001b[0;34m\u001b[0m\u001b[0m\n\u001b[1;32m    321\u001b[0m         \u001b[0mdata\u001b[0m \u001b[0;34m=\u001b[0m \u001b[0mself\u001b[0m\u001b[0;34m.\u001b[0m\u001b[0mbuffer\u001b[0m \u001b[0;34m+\u001b[0m \u001b[0minput\u001b[0m\u001b[0;34m\u001b[0m\u001b[0;34m\u001b[0m\u001b[0m\n\u001b[0;32m--> 322\u001b[0;31m         \u001b[0;34m(\u001b[0m\u001b[0mresult\u001b[0m\u001b[0;34m,\u001b[0m \u001b[0mconsumed\u001b[0m\u001b[0;34m)\u001b[0m \u001b[0;34m=\u001b[0m \u001b[0mself\u001b[0m\u001b[0;34m.\u001b[0m\u001b[0m_buffer_decode\u001b[0m\u001b[0;34m(\u001b[0m\u001b[0mdata\u001b[0m\u001b[0;34m,\u001b[0m \u001b[0mself\u001b[0m\u001b[0;34m.\u001b[0m\u001b[0merrors\u001b[0m\u001b[0;34m,\u001b[0m \u001b[0mfinal\u001b[0m\u001b[0;34m)\u001b[0m\u001b[0;34m\u001b[0m\u001b[0;34m\u001b[0m\u001b[0m\n\u001b[0m\u001b[1;32m    323\u001b[0m         \u001b[0;31m# keep undecoded input until the next call\u001b[0m\u001b[0;34m\u001b[0m\u001b[0;34m\u001b[0m\u001b[0m\n\u001b[1;32m    324\u001b[0m         \u001b[0mself\u001b[0m\u001b[0;34m.\u001b[0m\u001b[0mbuffer\u001b[0m \u001b[0;34m=\u001b[0m \u001b[0mdata\u001b[0m\u001b[0;34m[\u001b[0m\u001b[0mconsumed\u001b[0m\u001b[0;34m:\u001b[0m\u001b[0;34m]\u001b[0m\u001b[0;34m\u001b[0m\u001b[0;34m\u001b[0m\u001b[0m\n",
            "\u001b[0;31mUnicodeDecodeError\u001b[0m: 'utf-8' codec can't decode byte 0xbb in position 10: invalid start byte"
          ]
        }
      ]
    },
    {
      "cell_type": "code",
      "source": [
        "df= df.sort_values(\"File\")\n",
        "df\n",
        "df.to_csv(\"content.csv\",index=None)"
      ],
      "metadata": {
        "id": "kSuxbcjCFHZg"
      },
      "execution_count": null,
      "outputs": []
    },
    {
      "cell_type": "code",
      "source": [
        "df= pd.read_csv('content.csv')\n",
        "df.head()"
      ],
      "metadata": {
        "id": "GDD2B33rf0eX"
      },
      "execution_count": null,
      "outputs": []
    },
    {
      "cell_type": "markdown",
      "source": [
        "data preprocessing"
      ],
      "metadata": {
        "id": "4yFo9h9ahbfF"
      }
    },
    {
      "cell_type": "code",
      "source": [
        "df[\"Number of sentences\"]=df['text'].apply(lambda x: len(x.split('.')))"
      ],
      "metadata": {
        "id": "BOohpEdEgLGp"
      },
      "execution_count": null,
      "outputs": []
    },
    {
      "cell_type": "code",
      "source": [
        "   def short_forms():   \n",
        "        return {\\n\",\n",
        "            \\\"cant\\\":\\\"can not\\\",\\n\"\n",
        "            \\\"dont\\\":\\\"do not\\\",\\n\"\n",
        "            \\\"wont\\\":\\\"will not\\\",\\n\"\n",
        "            \\\"ain't\\\":\\\"is not\\\",\\n\"\n",
        "            \\\"amn't\\\":\\\"am not\\\",\\n\"\n",
        "            \\\"aren't\\\":\\\"are not\\\",\\n\"\n",
        "            \\\"can't\\\":\\\"cannot\\\",\\n\"\n",
        "            \\\"'cause\\\":\\\"because\\\",\\n\"\n",
        "           \\\"couldn't\\\":\\\"could not\\\",\\n\"\n",
        "            \\\"couldn't've\\\":\\\"could not have\\\",\\n\"\n",
        "            \\\"could've\\\":\\\"could have\\\",\\n\"\n",
        "            \\\"daren't\\\":\\\"dare not\\\",\\n\"\n",
        "    \n",
        "            \\\"daresn't\\\":\\\"dare not\\\",\\n\"\n",
        "           \\\"dasn't\\\":\\\"dare not\\\",\\n\",\n",
        "           \\\"didn't\\\":\\\"did not\\\",\\n\",\n",
        "           \\\"doesn't\\\":\\\"does not\\\",\\n\",\n",
        "           \\\"don't\\\":\\\"do not\\\",\\n\",\n",
        "           \\\"e'er\\\":\\\"ever\\\",\\n\",\n",
        "           \\\"em\\\":\\\"them\\\",\\n\",\n",
        "           \\\"everyone's\\\":\\\"everyone is\\\",\\n\",\n",
        "           \\\"finna\\\":\\\"fixing to\\\",\\n\",\n",
        "           \\\"gimme\\\":\\\"give me\\\",\\n\",\n",
        "           \\\"gonna\\\":\\\"going to\\\",\\n\",\n",
        "           \\\"gon't\\\":\\\"go not\\\",\\n\",\n",
        "           \\\"gotta\\\":\\\"got to\\\",\\n\",\n",
        "           \\\"hadn't\\\":\\\"had not\\\",\\n\",\n",
        "           \\\"hasn't\\\":\\\"has not\\\",\\n\",\n",
        "           \\\"haven't\\\":\\\"have not\\\",\\n\",\n",
        "           \\\"he'd\\\":\\\"he would\\\",\\n\",\n",
        "           \\\"he'll\\\":\\\"he will\\\",\\n\",\n",
        "           \\\"he's\\\":\\\"he is\\\",\\n\",\n",
        "           \\\"he've\\\":\\\"he have\\\",\\n\",\n",
        "           \\\"how'd\\\":\\\"how would\\\",\\n\",\n",
        "           \\\"how'll\\\":\\\"how will\\\",\\n\",\n",
        "           \\\"how're\\\":\\\"how are\\\",\\n\",\n",
        "           \\\"how's\\\":\\\"how is\\\",\\n\",\n",
        "           \\\"I'd\\\":\\\"I would\\\",\\n\",\n",
        "           \\\"I'll\\\":\\\"I will\\\",\\n\",\n",
        "           \\\"I'm\\\":\\\"I am\\\",\\n\",\n",
        "           \\\"I'm'a\\\":\\\"I am about to\\\",\\n\",\n",
        "           \\\"I'm'o\\\":\\\"I am going to\\\",\\n\",\n",
        "           \\\"isn't\\\":\\\"is not\\\",\\n\",\n",
        "           \\\"it'd\\\":\\\"it would\\\",\\n\",\n",
        "           \\\"it'll\\\":\\\"it will\\\",\\n\",\n",
        "           \\\"it's\\\":\\\"it is\\\",\\n\",\n",
        "           \\\"I've\\\":\\\"I have\\\",\\n\",\n",
        "           \\\"kinda\\\":\\\"kind of\\\",\\n\",\n",
        "           \\\"let's\\\":\\\"let us\\\",\\n\",\n",
        "           \\\"mayn't\\\":\\\"may not\\\",\\n\",\n",
        "           \\\"may've\\\":\\\"may have\\\",\\n\",\n",
        "           \\\"mightn't\\\":\\\"might not\\\",\\n\",\n",
        "           \\\"might've\\\":\\\"might have\\\",\\n\",\n",
        "           \\\"mustn't\\\":\\\"must not\\\",\\n\",\n",
        "           \\\"mustn't've\\\":\\\"must not have\\\",\\n\",\n",
        "           \\\"must've\\\":\\\"must have\\\",\\n\",\n",
        "           \\\"needn't\\\":\\\"need not\\\",\\n\",\n",
        "           \\\"ne'er\\\":\\\"never\\\",\\n\",\n",
        "           \\\"o'\\\":\\\"of\\\",\\n\",\n",
        "     \\\"o'er\\\":\\\"over\\\",\\n\",\n",
        "         \\\"ol'\\\":\\\"old\\\",\\n\",\n",
        "         \\\"oughtn't\\\":\\\"ought not\\\",\\n\",\n",
        "          \\\"shalln't\\\":\\\"shall not\\\",\\n\",\n",
        "          \\\"shan't\\\":\\\"shall not\\\",\\n\",\n",
        "         \\\"she'd\\\":\\\"she would\\\",\\n\",\n",
        "         \\\"she'll\\\":\\\"she will\\\",\\n\",\n",
        "         \\\"she's\\\":\\\"she is\\\",\\n\",\n",
        "         \\\"shouldn't\\\":\\\"should not\\\",\\n\",\n",
        "         \\\"shouldn't've\\\":\\\"should not have\\\",\\n\",\n",
        "         \\\"should've\\\":\\\"should have\\\",\\n\",\n",
        "         \\\"somebody's\\\":\\\"somebody is\\\",\\n\",\n",
        "         \\\"someone's\\\":\\\"someone is\\\",\\n\",\n",
        "         \\\"something's\\\":\\\"something is\\\",\\n\",\n",
        "         \\\"that'd\\\":\\\"that would\\\",\\n\",\n",
        "         \\\"that'll\\\":\\\"that will\\\",\\n\",\n",
        "         \\\"that're\\\":\\\"that are\\\",\\n\",\n",
        "         \\\"that's\\\":\\\"that is\\\",\\n\",\n",
        "         \\\"there'd\\\":\\\"there would\\\",\\n\",\n",
        "         \\\"there'll\\\":\\\"there will\\\",\\n\",\n",
        "         \\\"there're\\\":\\\"there are\\\",\\n\",\n",
        "         \\\"there's\\\":\\\"there is\\\",\\n\",\n",
        "          \\\"these're\\\":\\\"these are\\\",\\n\",\n",
        "         \\\"they'd\\\":\\\"they would\\\",\\n\",\n",
        "         \\\"they'll\\\":\\\"they will\\\",\\n\",\n",
        "         \\\"they're\\\":\\\"they are\\\",\\n\",\n",
        "         \\\"they've\\\":\\\"they have\\\",\\n\",\n",
        "         \\\"this's\\\":\\\"this is\\\",\\n\",\n",
        "         \\\"those're\\\":\\\"those are\\\",\\n\",\n",
        "         \\\"'tis\\\":\\\"it is\\\",\\n\",\n",
        "         \\\"'twas\\\":\\\"it was\\\",\\n\",\n",
        "         \\\"wanna\\\":\\\"want to\\\",\\n\",\n",
        "         \\\"wasn't\\\":\\\"was not\\\",\\n\",\n",
        "         \\\"we'd\\\":\\\"we would\\\",\\n\",\n",
        "         \\\"we'd've\\\":\\\"we would have\\\",\\n\",\n",
        "         \\\"we'll\\\":\\\"we will\\\",\\n\",\n",
        "          \\\"we're\\\":\\\"we are\\\",\\n\",\n",
        "         \\\"weren't\\\":\\\"were not\\\",\\n\",\n",
        "         \\\"we've\\\":\\\"we have\\\",\\n\",\n",
        "         \\\"what'd\\\":\\\"what did\\\",\\n\",\n",
        "         \\\"what'll\\\":\\\"what will\\\",\\n\",\n",
        "         \\\"what're\\\":\\\"what are\\\",\\n\",\n",
        "         \\\"what's\\\":\\\"what is\\\",\\n\",\n",
        "           \\\"what've\\\":\\\"what have\\\",\\n\",\n",
        "           \\\"when's\\\":\\\"when is\\\",\\n\",\n",
        "           \\\"where'd\\\":\\\"where did\\\",\\n\",\n",
        "          \\\"where're\\\":\\\"where are\\\",\\n\",\n",
        "           \\\"where's\\\":\\\"where is\\\",\\n\",\n",
        "           \\\"where've\\\":\\\"where have\\\",\\n\",\n",
        "           \\\"which's\\\":\\\"which is\\\",\\n\",\n",
        "           \\\"who'd\\\":\\\"who would\\\",\\n\",\n",
        "           \\\"who'd've\\\":\\\"who would have\\\",\\n\",\n",
        "           \\\"who'll\\\":\\\"who will\\\",\\n\",\n",
        "           \\\"who're\\\":\\\"who are\\\",\\n\",\n",
        "           \\\"who's\\\":\\\"who is\\\",\\n\",\n",
        "           \\\"who've\\\":\\\"who have\\\",\\n\",\n",
        "         \\\"why'd\\\":\\\"why did\\\",\\n\",\n",
        "           \\\"why're\\\":\\\"why are\\\",\\n\",\n",
        "           \\\"why's\\\":\\\"why is\\\",\\n\",\n",
        "           \\\"won't\\\":\\\"will not\\\",\\n\",\n",
        "        \\\"wouldn't\\\":\\\"would not\\\",\\n\",\n",
        "        \\\"would've\\\":\\\"would have\\\",\\n\",\n",
        "        \\\"y'all\\\":\\\"you all\\\",\\n\",\n",
        "        \\\"you'd\\\":\\\"you would\\\",\\n\",\n",
        "        \\\"you'll\\\":\\\"you will\\\",\\n\",\n",
        "        \\\"you're\\\":\\\"you are\\\",\\n\",\n",
        "        \\\"you've\\\":\\\"you have\\\",\\n\",\n",
        "      \\\"Whatcha\\\":\\\"What are you\\\",\\n\",\n",
        "        \\\"luv\\\":\\\"love\\\",\\n\",\n",
        "        \\\"sux\\\":\\\"sucks\\\",\\n\",\n",
        "        \\\"couldn't\\\":\\\"could not\\\",\\n\",\n",
        "        \\\"wouldn't\\\":\\\"would not\\\",\\n\",\n",
        "        \\\"shouldn't\\\":\\\"should not\\\",\\n\",\n",
        "        \\\"im\\\":\\\"i am\\\"\\n\",\n",
        "        }\""
      ],
      "metadata": {
        "id": "80Bl0f6Sh7ep"
      },
      "execution_count": null,
      "outputs": []
    },
    {
      "cell_type": "code",
      "source": [
        "    import re  ##check if a particular string matches a given regular expression\\n\",\n",
        "    import string\n",
        "  \n",
        "    ## funtion to replace the short forms \\n\",\n",
        "    def normalization(data):\n",
        "        data = str(data).lower()\n",
        "        # URL\\n\",\n",
        "        data = re.sub('((www.[^\\\\s]+)|(https?://[^\\\\s]+))',' ',data)\n",
        "        data = re.sub(r'#([^\\\\s]+)', r'\\\\1', data)\n",
        "    \n",
        "        # Number\\n\",\n",
        "        data = ''.join([i for i in data if not i.isdigit()])\n",
        "    \n",
        "        # Punctuation\\n\",\n",
        "    \n",
        "        for sym in string.punctuation:\n",
        "            data = data.replace(sym, \\\" \\\")\n",
        "       short_form = short_forms()\n",
        "        data = data.replace(\\\"’\\\",\\\"'\\\")\n",
        "        words = data.split()\n",
        "        converted = [short_form[word] if word in short_form else word for word in words]\n",
        "        data = \\\" \\\".join(converted)\n",
        "        return data"
      ],
      "metadata": {
        "id": "5qj9LItdjPuf"
      },
      "execution_count": null,
      "outputs": []
    },
    {
      "cell_type": "code",
      "source": [
        "df"
      ],
      "metadata": {
        "id": "b38vKPysj_-r"
      },
      "execution_count": null,
      "outputs": []
    },
    {
      "cell_type": "code",
      "source": [
        "df['text']=df['text'].apply(normalization)"
      ],
      "metadata": {
        "id": "-fUXvoY0kA-a"
      },
      "execution_count": null,
      "outputs": []
    },
    {
      "cell_type": "code",
      "source": [
        "df.head()"
      ],
      "metadata": {
        "id": "F_ErHunqkIGQ"
      },
      "execution_count": null,
      "outputs": []
    }
  ]
}